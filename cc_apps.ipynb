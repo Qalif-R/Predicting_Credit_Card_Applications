{
 "cells": [
  {
   "cell_type": "markdown",
   "id": "26fa25e2-be86-4443-b065-566c2f7cb6da",
   "metadata": {
    "tags": []
   },
   "source": [
    "# Predicting Credit Card Applications\n",
    "\n",
    "Commercial banks have the task of deciding whether or not credit card applications are successful or not. The teams in charge have to make a judgement call based on the profile of the applicant. Applicants may be rejected for a variety of reasons; high loan balances, low income level and poor credit history are some of the typical reasons application are unsuccessful. Traditionally, these applications are reviewed manually, in a case-by-case fashion. Here, we will train a machine learning classifier to predict the outcome of applications - eliminating the time-consuming process of manual reviews. "
   ]
  },
  {
   "cell_type": "markdown",
   "id": "e3b745a1-5c62-46bc-8395-1cd68a19fe7e",
   "metadata": {},
   "source": [
    "![](https://github.com/Qalif-R/Predicting_Credit_Card_Applications/blob/main/cc_img.png?raw=true)"
   ]
  },
  {
   "cell_type": "markdown",
   "id": "7ea29cab-855d-4067-9d9b-afd7c9f042a6",
   "metadata": {},
   "source": [
    "The data used to train and test our classifiers is the Credit Card Approval dataset from the UCI Machine Learning Repository. Below are the sub tasks to perform in order to successfully build and assess the model:\n",
    "\n",
    " **1. Exploratory Analysis**\\\n",
    " **2. Feature selection**\\\n",
    " **3. Split the data into train and test sets**\\\n",
    " **4. Preprocessing the data**\\\n",
    " **5. Train a few classic models**\\\n",
    " **6. Cross Fold Validation**\\\n",
    " **7. Hyper Parameter Tuning to improve model performance**\\\n",
    " **8. Impementing Ensemble methods to improve model performance**\\\n",
    " **9. Testing the chosen model on unseen data**\\\n",
    " \n",
    "We'll need to peform exploratory data analysis (EDA) to figure out anomilies of the data, and to determine how we can clean and preprocess the data. Steps 4-6 will be tied together using a machine learning pipeline. We then implement several measures to improve the model's performance and finally we assess the chosen model on fresh data."
   ]
  },
  {
   "cell_type": "markdown",
   "id": "e2324bbf-6da1-48b0-86ac-576556dc9fd9",
   "metadata": {},
   "source": [
    "## 1. Exploratory Data Analysis"
   ]
  },
  {
   "cell_type": "code",
   "execution_count": 1,
   "id": "20472f2d-bebc-455f-a825-1e8b3e21c37b",
   "metadata": {},
   "outputs": [
    {
     "data": {
      "text/html": [
       "<div>\n",
       "<style scoped>\n",
       "    .dataframe tbody tr th:only-of-type {\n",
       "        vertical-align: middle;\n",
       "    }\n",
       "\n",
       "    .dataframe tbody tr th {\n",
       "        vertical-align: top;\n",
       "    }\n",
       "\n",
       "    .dataframe thead th {\n",
       "        text-align: right;\n",
       "    }\n",
       "</style>\n",
       "<table border=\"1\" class=\"dataframe\">\n",
       "  <thead>\n",
       "    <tr style=\"text-align: right;\">\n",
       "      <th></th>\n",
       "      <th>Male</th>\n",
       "      <th>Age</th>\n",
       "      <th>Debt</th>\n",
       "      <th>Married</th>\n",
       "      <th>BankCustomer</th>\n",
       "      <th>EducationLevel</th>\n",
       "      <th>Ethnicity</th>\n",
       "      <th>YearsEmployed</th>\n",
       "      <th>PriorDefault</th>\n",
       "      <th>Employed</th>\n",
       "      <th>CreditScore</th>\n",
       "      <th>DriversLicense</th>\n",
       "      <th>Citizen</th>\n",
       "      <th>ZipCode</th>\n",
       "      <th>Income</th>\n",
       "      <th>Approved</th>\n",
       "    </tr>\n",
       "  </thead>\n",
       "  <tbody>\n",
       "    <tr>\n",
       "      <th>0</th>\n",
       "      <td>b</td>\n",
       "      <td>30.83</td>\n",
       "      <td>0.000</td>\n",
       "      <td>u</td>\n",
       "      <td>g</td>\n",
       "      <td>w</td>\n",
       "      <td>v</td>\n",
       "      <td>1.25</td>\n",
       "      <td>t</td>\n",
       "      <td>t</td>\n",
       "      <td>1</td>\n",
       "      <td>f</td>\n",
       "      <td>g</td>\n",
       "      <td>00202</td>\n",
       "      <td>0</td>\n",
       "      <td>+</td>\n",
       "    </tr>\n",
       "    <tr>\n",
       "      <th>1</th>\n",
       "      <td>a</td>\n",
       "      <td>58.67</td>\n",
       "      <td>4.460</td>\n",
       "      <td>u</td>\n",
       "      <td>g</td>\n",
       "      <td>q</td>\n",
       "      <td>h</td>\n",
       "      <td>3.04</td>\n",
       "      <td>t</td>\n",
       "      <td>t</td>\n",
       "      <td>6</td>\n",
       "      <td>f</td>\n",
       "      <td>g</td>\n",
       "      <td>00043</td>\n",
       "      <td>560</td>\n",
       "      <td>+</td>\n",
       "    </tr>\n",
       "    <tr>\n",
       "      <th>2</th>\n",
       "      <td>a</td>\n",
       "      <td>24.50</td>\n",
       "      <td>0.500</td>\n",
       "      <td>u</td>\n",
       "      <td>g</td>\n",
       "      <td>q</td>\n",
       "      <td>h</td>\n",
       "      <td>1.50</td>\n",
       "      <td>t</td>\n",
       "      <td>f</td>\n",
       "      <td>0</td>\n",
       "      <td>f</td>\n",
       "      <td>g</td>\n",
       "      <td>00280</td>\n",
       "      <td>824</td>\n",
       "      <td>+</td>\n",
       "    </tr>\n",
       "    <tr>\n",
       "      <th>3</th>\n",
       "      <td>b</td>\n",
       "      <td>27.83</td>\n",
       "      <td>1.540</td>\n",
       "      <td>u</td>\n",
       "      <td>g</td>\n",
       "      <td>w</td>\n",
       "      <td>v</td>\n",
       "      <td>3.75</td>\n",
       "      <td>t</td>\n",
       "      <td>t</td>\n",
       "      <td>5</td>\n",
       "      <td>t</td>\n",
       "      <td>g</td>\n",
       "      <td>00100</td>\n",
       "      <td>3</td>\n",
       "      <td>+</td>\n",
       "    </tr>\n",
       "    <tr>\n",
       "      <th>4</th>\n",
       "      <td>b</td>\n",
       "      <td>20.17</td>\n",
       "      <td>5.625</td>\n",
       "      <td>u</td>\n",
       "      <td>g</td>\n",
       "      <td>w</td>\n",
       "      <td>v</td>\n",
       "      <td>1.71</td>\n",
       "      <td>t</td>\n",
       "      <td>f</td>\n",
       "      <td>0</td>\n",
       "      <td>f</td>\n",
       "      <td>s</td>\n",
       "      <td>00120</td>\n",
       "      <td>0</td>\n",
       "      <td>+</td>\n",
       "    </tr>\n",
       "  </tbody>\n",
       "</table>\n",
       "</div>"
      ],
      "text/plain": [
       "  Male    Age   Debt Married BankCustomer EducationLevel Ethnicity  \\\n",
       "0    b  30.83  0.000       u            g              w         v   \n",
       "1    a  58.67  4.460       u            g              q         h   \n",
       "2    a  24.50  0.500       u            g              q         h   \n",
       "3    b  27.83  1.540       u            g              w         v   \n",
       "4    b  20.17  5.625       u            g              w         v   \n",
       "\n",
       "   YearsEmployed PriorDefault Employed  CreditScore DriversLicense Citizen  \\\n",
       "0           1.25            t        t            1              f       g   \n",
       "1           3.04            t        t            6              f       g   \n",
       "2           1.50            t        f            0              f       g   \n",
       "3           3.75            t        t            5              t       g   \n",
       "4           1.71            t        f            0              f       s   \n",
       "\n",
       "  ZipCode  Income Approved  \n",
       "0   00202       0        +  \n",
       "1   00043     560        +  \n",
       "2   00280     824        +  \n",
       "3   00100       3        +  \n",
       "4   00120       0        +  "
      ]
     },
     "execution_count": 1,
     "metadata": {},
     "output_type": "execute_result"
    }
   ],
   "source": [
    "import pandas as pd\n",
    "\n",
    "url = 'https://raw.githubusercontent.com/Qalif-R/Predicting_Credit_Card_Applications/main/cc_approvals.csv'\n",
    "cc_apps = pd.read_csv(url)\n",
    "cc_apps.head()"
   ]
  },
  {
   "cell_type": "markdown",
   "id": "a68cd289-1c0f-4bae-b6a8-75fd7a35bec3",
   "metadata": {
    "tags": []
   },
   "source": [
    "Inspecting the head of the applicant data, values for several of the categorical features are not easily interpretable. Unfortunately, the definition for such values are not disclosed due to privacy reasons. This will of course, not impact our model's ability to make approval predictions. It is clear that the target variable is *Approved*, while the rest of the columns represent the features.\n",
    "\n",
    "Let's proceed by examining the structure of the data:"
   ]
  },
  {
   "cell_type": "code",
   "execution_count": 2,
   "id": "85b38e23-b96d-45c6-aa9e-a5216ef9d3e0",
   "metadata": {},
   "outputs": [
    {
     "name": "stdout",
     "output_type": "stream",
     "text": [
      "<class 'pandas.core.frame.DataFrame'>\n",
      "RangeIndex: 690 entries, 0 to 689\n",
      "Data columns (total 16 columns):\n",
      " #   Column          Non-Null Count  Dtype  \n",
      "---  ------          --------------  -----  \n",
      " 0   Male            690 non-null    object \n",
      " 1   Age             690 non-null    object \n",
      " 2   Debt            690 non-null    float64\n",
      " 3   Married         690 non-null    object \n",
      " 4   BankCustomer    690 non-null    object \n",
      " 5   EducationLevel  690 non-null    object \n",
      " 6   Ethnicity       690 non-null    object \n",
      " 7   YearsEmployed   690 non-null    float64\n",
      " 8   PriorDefault    690 non-null    object \n",
      " 9   Employed        690 non-null    object \n",
      " 10  CreditScore     690 non-null    int64  \n",
      " 11  DriversLicense  690 non-null    object \n",
      " 12  Citizen         690 non-null    object \n",
      " 13  ZipCode         690 non-null    object \n",
      " 14  Income          690 non-null    int64  \n",
      " 15  Approved        690 non-null    object \n",
      "dtypes: float64(2), int64(2), object(12)\n",
      "memory usage: 86.4+ KB\n"
     ]
    }
   ],
   "source": [
    "#Info of application data\n",
    "cc_apps_info = cc_apps.info()\n",
    "cc_apps_info"
   ]
  },
  {
   "cell_type": "markdown",
   "id": "934174d4-7a02-4b9d-8576-d4346439db30",
   "metadata": {},
   "source": [
    "We notice the Age feature is stored as an object. Since Age is decribed as a decimal number here, we'll change it to a float type feature, and then look at the distribution statistics for all numerical features."
   ]
  },
  {
   "cell_type": "code",
   "execution_count": 3,
   "id": "090cefc2-da32-48c2-9cb2-24bbc733ea62",
   "metadata": {},
   "outputs": [
    {
     "data": {
      "text/html": [
       "<div>\n",
       "<style scoped>\n",
       "    .dataframe tbody tr th:only-of-type {\n",
       "        vertical-align: middle;\n",
       "    }\n",
       "\n",
       "    .dataframe tbody tr th {\n",
       "        vertical-align: top;\n",
       "    }\n",
       "\n",
       "    .dataframe thead th {\n",
       "        text-align: right;\n",
       "    }\n",
       "</style>\n",
       "<table border=\"1\" class=\"dataframe\">\n",
       "  <thead>\n",
       "    <tr style=\"text-align: right;\">\n",
       "      <th></th>\n",
       "      <th>Age</th>\n",
       "      <th>Debt</th>\n",
       "      <th>YearsEmployed</th>\n",
       "      <th>CreditScore</th>\n",
       "      <th>Income</th>\n",
       "    </tr>\n",
       "  </thead>\n",
       "  <tbody>\n",
       "    <tr>\n",
       "      <th>count</th>\n",
       "      <td>678.000000</td>\n",
       "      <td>690.000000</td>\n",
       "      <td>690.000000</td>\n",
       "      <td>690.00000</td>\n",
       "      <td>690.000000</td>\n",
       "    </tr>\n",
       "    <tr>\n",
       "      <th>mean</th>\n",
       "      <td>31.568171</td>\n",
       "      <td>4.758725</td>\n",
       "      <td>2.223406</td>\n",
       "      <td>2.40000</td>\n",
       "      <td>1017.385507</td>\n",
       "    </tr>\n",
       "    <tr>\n",
       "      <th>std</th>\n",
       "      <td>11.957862</td>\n",
       "      <td>4.978163</td>\n",
       "      <td>3.346513</td>\n",
       "      <td>4.86294</td>\n",
       "      <td>5210.102598</td>\n",
       "    </tr>\n",
       "    <tr>\n",
       "      <th>min</th>\n",
       "      <td>13.750000</td>\n",
       "      <td>0.000000</td>\n",
       "      <td>0.000000</td>\n",
       "      <td>0.00000</td>\n",
       "      <td>0.000000</td>\n",
       "    </tr>\n",
       "    <tr>\n",
       "      <th>25%</th>\n",
       "      <td>22.602500</td>\n",
       "      <td>1.000000</td>\n",
       "      <td>0.165000</td>\n",
       "      <td>0.00000</td>\n",
       "      <td>0.000000</td>\n",
       "    </tr>\n",
       "    <tr>\n",
       "      <th>50%</th>\n",
       "      <td>28.460000</td>\n",
       "      <td>2.750000</td>\n",
       "      <td>1.000000</td>\n",
       "      <td>0.00000</td>\n",
       "      <td>5.000000</td>\n",
       "    </tr>\n",
       "    <tr>\n",
       "      <th>75%</th>\n",
       "      <td>38.230000</td>\n",
       "      <td>7.207500</td>\n",
       "      <td>2.625000</td>\n",
       "      <td>3.00000</td>\n",
       "      <td>395.500000</td>\n",
       "    </tr>\n",
       "    <tr>\n",
       "      <th>max</th>\n",
       "      <td>80.250000</td>\n",
       "      <td>28.000000</td>\n",
       "      <td>28.500000</td>\n",
       "      <td>67.00000</td>\n",
       "      <td>100000.000000</td>\n",
       "    </tr>\n",
       "  </tbody>\n",
       "</table>\n",
       "</div>"
      ],
      "text/plain": [
       "              Age        Debt  YearsEmployed  CreditScore         Income\n",
       "count  678.000000  690.000000     690.000000    690.00000     690.000000\n",
       "mean    31.568171    4.758725       2.223406      2.40000    1017.385507\n",
       "std     11.957862    4.978163       3.346513      4.86294    5210.102598\n",
       "min     13.750000    0.000000       0.000000      0.00000       0.000000\n",
       "25%     22.602500    1.000000       0.165000      0.00000       0.000000\n",
       "50%     28.460000    2.750000       1.000000      0.00000       5.000000\n",
       "75%     38.230000    7.207500       2.625000      3.00000     395.500000\n",
       "max     80.250000   28.000000      28.500000     67.00000  100000.000000"
      ]
     },
     "execution_count": 3,
     "metadata": {},
     "output_type": "execute_result"
    }
   ],
   "source": [
    "#Change Age from object to float\n",
    "cc_apps['Age'] = pd.to_numeric(cc_apps['Age'], errors='coerce')\n",
    "\n",
    "#Summary statistics for numerical features\n",
    "cc_apps_description = cc_apps.describe()\n",
    "cc_apps_description"
   ]
  },
  {
   "cell_type": "code",
   "execution_count": 4,
   "id": "2cef3868-8307-43bf-b0b8-4830d7e4ffc8",
   "metadata": {},
   "outputs": [
    {
     "data": {
      "text/html": [
       "<div>\n",
       "<style scoped>\n",
       "    .dataframe tbody tr th:only-of-type {\n",
       "        vertical-align: middle;\n",
       "    }\n",
       "\n",
       "    .dataframe tbody tr th {\n",
       "        vertical-align: top;\n",
       "    }\n",
       "\n",
       "    .dataframe thead th {\n",
       "        text-align: right;\n",
       "    }\n",
       "</style>\n",
       "<table border=\"1\" class=\"dataframe\">\n",
       "  <thead>\n",
       "    <tr style=\"text-align: right;\">\n",
       "      <th></th>\n",
       "      <th>Male</th>\n",
       "      <th>Age</th>\n",
       "      <th>Debt</th>\n",
       "      <th>Married</th>\n",
       "      <th>BankCustomer</th>\n",
       "      <th>EducationLevel</th>\n",
       "      <th>Ethnicity</th>\n",
       "      <th>YearsEmployed</th>\n",
       "      <th>PriorDefault</th>\n",
       "      <th>Employed</th>\n",
       "      <th>CreditScore</th>\n",
       "      <th>DriversLicense</th>\n",
       "      <th>Citizen</th>\n",
       "      <th>ZipCode</th>\n",
       "      <th>Income</th>\n",
       "      <th>Approved</th>\n",
       "    </tr>\n",
       "  </thead>\n",
       "  <tbody>\n",
       "    <tr>\n",
       "      <th>666</th>\n",
       "      <td>a</td>\n",
       "      <td>21.75</td>\n",
       "      <td>11.75</td>\n",
       "      <td>u</td>\n",
       "      <td>g</td>\n",
       "      <td>c</td>\n",
       "      <td>v</td>\n",
       "      <td>0.250</td>\n",
       "      <td>f</td>\n",
       "      <td>f</td>\n",
       "      <td>0</td>\n",
       "      <td>t</td>\n",
       "      <td>g</td>\n",
       "      <td>00180</td>\n",
       "      <td>0</td>\n",
       "      <td>-</td>\n",
       "    </tr>\n",
       "    <tr>\n",
       "      <th>520</th>\n",
       "      <td>?</td>\n",
       "      <td>20.42</td>\n",
       "      <td>7.50</td>\n",
       "      <td>u</td>\n",
       "      <td>g</td>\n",
       "      <td>k</td>\n",
       "      <td>v</td>\n",
       "      <td>1.500</td>\n",
       "      <td>t</td>\n",
       "      <td>t</td>\n",
       "      <td>1</td>\n",
       "      <td>f</td>\n",
       "      <td>g</td>\n",
       "      <td>00160</td>\n",
       "      <td>234</td>\n",
       "      <td>+</td>\n",
       "    </tr>\n",
       "    <tr>\n",
       "      <th>681</th>\n",
       "      <td>b</td>\n",
       "      <td>27.83</td>\n",
       "      <td>1.00</td>\n",
       "      <td>y</td>\n",
       "      <td>p</td>\n",
       "      <td>d</td>\n",
       "      <td>h</td>\n",
       "      <td>3.000</td>\n",
       "      <td>f</td>\n",
       "      <td>f</td>\n",
       "      <td>0</td>\n",
       "      <td>f</td>\n",
       "      <td>g</td>\n",
       "      <td>00176</td>\n",
       "      <td>537</td>\n",
       "      <td>-</td>\n",
       "    </tr>\n",
       "    <tr>\n",
       "      <th>23</th>\n",
       "      <td>a</td>\n",
       "      <td>27.42</td>\n",
       "      <td>14.50</td>\n",
       "      <td>u</td>\n",
       "      <td>g</td>\n",
       "      <td>x</td>\n",
       "      <td>h</td>\n",
       "      <td>3.085</td>\n",
       "      <td>t</td>\n",
       "      <td>t</td>\n",
       "      <td>1</td>\n",
       "      <td>f</td>\n",
       "      <td>g</td>\n",
       "      <td>00120</td>\n",
       "      <td>11</td>\n",
       "      <td>+</td>\n",
       "    </tr>\n",
       "    <tr>\n",
       "      <th>65</th>\n",
       "      <td>b</td>\n",
       "      <td>34.17</td>\n",
       "      <td>1.54</td>\n",
       "      <td>u</td>\n",
       "      <td>g</td>\n",
       "      <td>cc</td>\n",
       "      <td>v</td>\n",
       "      <td>1.540</td>\n",
       "      <td>t</td>\n",
       "      <td>t</td>\n",
       "      <td>1</td>\n",
       "      <td>t</td>\n",
       "      <td>g</td>\n",
       "      <td>00520</td>\n",
       "      <td>50000</td>\n",
       "      <td>+</td>\n",
       "    </tr>\n",
       "    <tr>\n",
       "      <th>339</th>\n",
       "      <td>b</td>\n",
       "      <td>28.00</td>\n",
       "      <td>3.00</td>\n",
       "      <td>u</td>\n",
       "      <td>g</td>\n",
       "      <td>w</td>\n",
       "      <td>v</td>\n",
       "      <td>0.750</td>\n",
       "      <td>f</td>\n",
       "      <td>f</td>\n",
       "      <td>0</td>\n",
       "      <td>t</td>\n",
       "      <td>g</td>\n",
       "      <td>00300</td>\n",
       "      <td>67</td>\n",
       "      <td>-</td>\n",
       "    </tr>\n",
       "    <tr>\n",
       "      <th>56</th>\n",
       "      <td>b</td>\n",
       "      <td>23.17</td>\n",
       "      <td>0.00</td>\n",
       "      <td>u</td>\n",
       "      <td>g</td>\n",
       "      <td>cc</td>\n",
       "      <td>v</td>\n",
       "      <td>0.085</td>\n",
       "      <td>t</td>\n",
       "      <td>f</td>\n",
       "      <td>0</td>\n",
       "      <td>f</td>\n",
       "      <td>g</td>\n",
       "      <td>00000</td>\n",
       "      <td>0</td>\n",
       "      <td>+</td>\n",
       "    </tr>\n",
       "    <tr>\n",
       "      <th>394</th>\n",
       "      <td>b</td>\n",
       "      <td>41.17</td>\n",
       "      <td>1.25</td>\n",
       "      <td>y</td>\n",
       "      <td>p</td>\n",
       "      <td>w</td>\n",
       "      <td>v</td>\n",
       "      <td>0.250</td>\n",
       "      <td>f</td>\n",
       "      <td>f</td>\n",
       "      <td>0</td>\n",
       "      <td>f</td>\n",
       "      <td>g</td>\n",
       "      <td>00000</td>\n",
       "      <td>195</td>\n",
       "      <td>-</td>\n",
       "    </tr>\n",
       "    <tr>\n",
       "      <th>47</th>\n",
       "      <td>b</td>\n",
       "      <td>31.92</td>\n",
       "      <td>4.46</td>\n",
       "      <td>u</td>\n",
       "      <td>g</td>\n",
       "      <td>cc</td>\n",
       "      <td>h</td>\n",
       "      <td>6.040</td>\n",
       "      <td>t</td>\n",
       "      <td>t</td>\n",
       "      <td>3</td>\n",
       "      <td>f</td>\n",
       "      <td>g</td>\n",
       "      <td>00311</td>\n",
       "      <td>300</td>\n",
       "      <td>+</td>\n",
       "    </tr>\n",
       "    <tr>\n",
       "      <th>358</th>\n",
       "      <td>b</td>\n",
       "      <td>32.42</td>\n",
       "      <td>3.00</td>\n",
       "      <td>u</td>\n",
       "      <td>g</td>\n",
       "      <td>d</td>\n",
       "      <td>v</td>\n",
       "      <td>0.165</td>\n",
       "      <td>f</td>\n",
       "      <td>f</td>\n",
       "      <td>0</td>\n",
       "      <td>t</td>\n",
       "      <td>g</td>\n",
       "      <td>00120</td>\n",
       "      <td>0</td>\n",
       "      <td>-</td>\n",
       "    </tr>\n",
       "  </tbody>\n",
       "</table>\n",
       "</div>"
      ],
      "text/plain": [
       "    Male    Age   Debt Married BankCustomer EducationLevel Ethnicity  \\\n",
       "666    a  21.75  11.75       u            g              c         v   \n",
       "520    ?  20.42   7.50       u            g              k         v   \n",
       "681    b  27.83   1.00       y            p              d         h   \n",
       "23     a  27.42  14.50       u            g              x         h   \n",
       "65     b  34.17   1.54       u            g             cc         v   \n",
       "339    b  28.00   3.00       u            g              w         v   \n",
       "56     b  23.17   0.00       u            g             cc         v   \n",
       "394    b  41.17   1.25       y            p              w         v   \n",
       "47     b  31.92   4.46       u            g             cc         h   \n",
       "358    b  32.42   3.00       u            g              d         v   \n",
       "\n",
       "     YearsEmployed PriorDefault Employed  CreditScore DriversLicense Citizen  \\\n",
       "666          0.250            f        f            0              t       g   \n",
       "520          1.500            t        t            1              f       g   \n",
       "681          3.000            f        f            0              f       g   \n",
       "23           3.085            t        t            1              f       g   \n",
       "65           1.540            t        t            1              t       g   \n",
       "339          0.750            f        f            0              t       g   \n",
       "56           0.085            t        f            0              f       g   \n",
       "394          0.250            f        f            0              f       g   \n",
       "47           6.040            t        t            3              f       g   \n",
       "358          0.165            f        f            0              t       g   \n",
       "\n",
       "    ZipCode  Income Approved  \n",
       "666   00180       0        -  \n",
       "520   00160     234        +  \n",
       "681   00176     537        -  \n",
       "23    00120      11        +  \n",
       "65    00520   50000        +  \n",
       "339   00300      67        -  \n",
       "56    00000       0        +  \n",
       "394   00000     195        -  \n",
       "47    00311     300        +  \n",
       "358   00120       0        -  "
      ]
     },
     "execution_count": 4,
     "metadata": {},
     "output_type": "execute_result"
    }
   ],
   "source": [
    "#Take a random sample of the data\n",
    "cc_apps.sample(10, random_state=1)"
   ]
  },
  {
   "cell_type": "markdown",
   "id": "71efcc69-18c5-4a43-9aeb-47a355bb25d9",
   "metadata": {},
   "source": [
    "Even though the .info() method reported no null values in all columns earlier,the random sample of the data generated above shows the null values are masked by '?' (index 520). Upon further inspection, there were no other symbols which denote null entries. We will replace these with numpy NaN."
   ]
  },
  {
   "cell_type": "code",
   "execution_count": 5,
   "id": "2b6f5052-7ac8-4bd9-8ebf-ea741aa388f5",
   "metadata": {},
   "outputs": [
    {
     "name": "stdout",
     "output_type": "stream",
     "text": [
      "<class 'pandas.core.frame.DataFrame'>\n",
      "RangeIndex: 690 entries, 0 to 689\n",
      "Data columns (total 16 columns):\n",
      " #   Column          Non-Null Count  Dtype  \n",
      "---  ------          --------------  -----  \n",
      " 0   Male            678 non-null    object \n",
      " 1   Age             678 non-null    float64\n",
      " 2   Debt            690 non-null    float64\n",
      " 3   Married         684 non-null    object \n",
      " 4   BankCustomer    684 non-null    object \n",
      " 5   EducationLevel  681 non-null    object \n",
      " 6   Ethnicity       681 non-null    object \n",
      " 7   YearsEmployed   690 non-null    float64\n",
      " 8   PriorDefault    690 non-null    object \n",
      " 9   Employed        690 non-null    object \n",
      " 10  CreditScore     690 non-null    int64  \n",
      " 11  DriversLicense  690 non-null    object \n",
      " 12  Citizen         690 non-null    object \n",
      " 13  ZipCode         677 non-null    object \n",
      " 14  Income          690 non-null    int64  \n",
      " 15  Approved        690 non-null    object \n",
      "dtypes: float64(3), int64(2), object(11)\n",
      "memory usage: 86.4+ KB\n"
     ]
    }
   ],
   "source": [
    "import numpy as np\n",
    "# Replace the '?s with NaN\n",
    "cc_apps = cc_apps.replace('?', np.nan)\n",
    "\n",
    "# Count the number of NaNs in the datasets and print the counts to verify\n",
    "cc_apps_info = cc_apps.info()"
   ]
  },
  {
   "cell_type": "markdown",
   "id": "ccb5f32f-602e-42ab-8312-8b13484fd146",
   "metadata": {},
   "source": [
    "We are now able to see the actual number of non-null values in each of the columns. \n",
    "\n",
    "Now we shall check the proportions of each class in the target variable. This is important as a models trained with high class imbalance will produce misleading results. "
   ]
  },
  {
   "cell_type": "code",
   "execution_count": 6,
   "id": "c4737312-3fc7-4f86-94bf-b7a5ecd9c817",
   "metadata": {},
   "outputs": [
    {
     "data": {
      "text/plain": [
       "-    0.555072\n",
       "+    0.444928\n",
       "Name: Approved, dtype: float64"
      ]
     },
     "execution_count": 6,
     "metadata": {},
     "output_type": "execute_result"
    }
   ],
   "source": [
    "#Check for class imbalance\n",
    "cc_apps['Approved'].value_counts(normalize=True)"
   ]
  },
  {
   "cell_type": "markdown",
   "id": "26b67f06-d058-4fa8-a4e1-ade6a46b9116",
   "metadata": {},
   "source": [
    "The target variable split of ~55%-45% may be considered to be balanced, so we can proceed without applying any resampling techniques. This also means that **accuracy** will be a suitable metric for assessing model performance"
   ]
  },
  {
   "cell_type": "markdown",
   "id": "0e0d67c3-26eb-4a9c-acf8-d961c5924602",
   "metadata": {
    "tags": []
   },
   "source": [
    "## 2. Feature Selection\n",
    "\n",
    "Ideally, we want to get rid of any features which add little to no value in making predictions. For numerical features, if two features are strongly correlated to one another, we can remove 1 of those features.\n",
    "\n",
    "Let's draw up a correlation matrix to see if such features exist."
   ]
  },
  {
   "cell_type": "code",
   "execution_count": 7,
   "id": "aebbe3f1-c4cc-465d-98c7-d10c9a622194",
   "metadata": {
    "tags": []
   },
   "outputs": [
    {
     "data": {
      "text/html": [
       "<style type=\"text/css\">\n",
       "#T_d0d72_row0_col0, #T_d0d72_row1_col1, #T_d0d72_row2_col2, #T_d0d72_row3_col3, #T_d0d72_row4_col4 {\n",
       "  background-color: #023858;\n",
       "  color: #f1f1f1;\n",
       "}\n",
       "#T_d0d72_row0_col1 {\n",
       "  background-color: #f1ebf5;\n",
       "  color: #000000;\n",
       "}\n",
       "#T_d0d72_row0_col2 {\n",
       "  background-color: #abbfdc;\n",
       "  color: #000000;\n",
       "}\n",
       "#T_d0d72_row0_col3 {\n",
       "  background-color: #ebe6f2;\n",
       "  color: #000000;\n",
       "}\n",
       "#T_d0d72_row0_col4, #T_d0d72_row4_col0, #T_d0d72_row4_col1, #T_d0d72_row4_col2, #T_d0d72_row4_col3 {\n",
       "  background-color: #fff7fb;\n",
       "  color: #000000;\n",
       "}\n",
       "#T_d0d72_row1_col0 {\n",
       "  background-color: #dfddec;\n",
       "  color: #000000;\n",
       "}\n",
       "#T_d0d72_row1_col2 {\n",
       "  background-color: #cdd0e5;\n",
       "  color: #000000;\n",
       "}\n",
       "#T_d0d72_row1_col3 {\n",
       "  background-color: #d7d6e9;\n",
       "  color: #000000;\n",
       "}\n",
       "#T_d0d72_row1_col4 {\n",
       "  background-color: #efe9f3;\n",
       "  color: #000000;\n",
       "}\n",
       "#T_d0d72_row2_col0 {\n",
       "  background-color: #a2bcda;\n",
       "  color: #000000;\n",
       "}\n",
       "#T_d0d72_row2_col1 {\n",
       "  background-color: #dbdaeb;\n",
       "  color: #000000;\n",
       "}\n",
       "#T_d0d72_row2_col3 {\n",
       "  background-color: #c8cde4;\n",
       "  color: #000000;\n",
       "}\n",
       "#T_d0d72_row2_col4 {\n",
       "  background-color: #faf3f9;\n",
       "  color: #000000;\n",
       "}\n",
       "#T_d0d72_row3_col0, #T_d0d72_row3_col1 {\n",
       "  background-color: #e2dfee;\n",
       "  color: #000000;\n",
       "}\n",
       "#T_d0d72_row3_col2 {\n",
       "  background-color: #c4cbe3;\n",
       "  color: #000000;\n",
       "}\n",
       "#T_d0d72_row3_col4 {\n",
       "  background-color: #f8f1f8;\n",
       "  color: #000000;\n",
       "}\n",
       "</style>\n",
       "<table id=\"T_d0d72\">\n",
       "  <thead>\n",
       "    <tr>\n",
       "      <th class=\"blank level0\" >&nbsp;</th>\n",
       "      <th id=\"T_d0d72_level0_col0\" class=\"col_heading level0 col0\" >Age</th>\n",
       "      <th id=\"T_d0d72_level0_col1\" class=\"col_heading level0 col1\" >Debt</th>\n",
       "      <th id=\"T_d0d72_level0_col2\" class=\"col_heading level0 col2\" >YearsEmployed</th>\n",
       "      <th id=\"T_d0d72_level0_col3\" class=\"col_heading level0 col3\" >CreditScore</th>\n",
       "      <th id=\"T_d0d72_level0_col4\" class=\"col_heading level0 col4\" >Income</th>\n",
       "    </tr>\n",
       "  </thead>\n",
       "  <tbody>\n",
       "    <tr>\n",
       "      <th id=\"T_d0d72_level0_row0\" class=\"row_heading level0 row0\" >Age</th>\n",
       "      <td id=\"T_d0d72_row0_col0\" class=\"data row0 col0\" >1.000000</td>\n",
       "      <td id=\"T_d0d72_row0_col1\" class=\"data row0 col1\" >0.202317</td>\n",
       "      <td id=\"T_d0d72_row0_col2\" class=\"data row0 col2\" >0.395751</td>\n",
       "      <td id=\"T_d0d72_row0_col3\" class=\"data row0 col3\" >0.185912</td>\n",
       "      <td id=\"T_d0d72_row0_col4\" class=\"data row0 col4\" >0.018553</td>\n",
       "    </tr>\n",
       "    <tr>\n",
       "      <th id=\"T_d0d72_level0_row1\" class=\"row_heading level0 row1\" >Debt</th>\n",
       "      <td id=\"T_d0d72_row1_col0\" class=\"data row1 col0\" >0.202317</td>\n",
       "      <td id=\"T_d0d72_row1_col1\" class=\"data row1 col1\" >1.000000</td>\n",
       "      <td id=\"T_d0d72_row1_col2\" class=\"data row1 col2\" >0.298902</td>\n",
       "      <td id=\"T_d0d72_row1_col3\" class=\"data row1 col3\" >0.271207</td>\n",
       "      <td id=\"T_d0d72_row1_col4\" class=\"data row1 col4\" >0.123121</td>\n",
       "    </tr>\n",
       "    <tr>\n",
       "      <th id=\"T_d0d72_level0_row2\" class=\"row_heading level0 row2\" >YearsEmployed</th>\n",
       "      <td id=\"T_d0d72_row2_col0\" class=\"data row2 col0\" >0.395751</td>\n",
       "      <td id=\"T_d0d72_row2_col1\" class=\"data row2 col1\" >0.298902</td>\n",
       "      <td id=\"T_d0d72_row2_col2\" class=\"data row2 col2\" >1.000000</td>\n",
       "      <td id=\"T_d0d72_row2_col3\" class=\"data row2 col3\" >0.322330</td>\n",
       "      <td id=\"T_d0d72_row2_col4\" class=\"data row2 col4\" >0.051345</td>\n",
       "    </tr>\n",
       "    <tr>\n",
       "      <th id=\"T_d0d72_level0_row3\" class=\"row_heading level0 row3\" >CreditScore</th>\n",
       "      <td id=\"T_d0d72_row3_col0\" class=\"data row3 col0\" >0.185912</td>\n",
       "      <td id=\"T_d0d72_row3_col1\" class=\"data row3 col1\" >0.271207</td>\n",
       "      <td id=\"T_d0d72_row3_col2\" class=\"data row3 col2\" >0.322330</td>\n",
       "      <td id=\"T_d0d72_row3_col3\" class=\"data row3 col3\" >1.000000</td>\n",
       "      <td id=\"T_d0d72_row3_col4\" class=\"data row3 col4\" >0.063692</td>\n",
       "    </tr>\n",
       "    <tr>\n",
       "      <th id=\"T_d0d72_level0_row4\" class=\"row_heading level0 row4\" >Income</th>\n",
       "      <td id=\"T_d0d72_row4_col0\" class=\"data row4 col0\" >0.018553</td>\n",
       "      <td id=\"T_d0d72_row4_col1\" class=\"data row4 col1\" >0.123121</td>\n",
       "      <td id=\"T_d0d72_row4_col2\" class=\"data row4 col2\" >0.051345</td>\n",
       "      <td id=\"T_d0d72_row4_col3\" class=\"data row4 col3\" >0.063692</td>\n",
       "      <td id=\"T_d0d72_row4_col4\" class=\"data row4 col4\" >1.000000</td>\n",
       "    </tr>\n",
       "  </tbody>\n",
       "</table>\n"
      ],
      "text/plain": [
       "<pandas.io.formats.style.Styler at 0x2bf4acb2df0>"
      ]
     },
     "execution_count": 7,
     "metadata": {},
     "output_type": "execute_result"
    }
   ],
   "source": [
    "# Create a correlation matrix\n",
    "corr_metrics = cc_apps.corr()\n",
    "corr_metrics.style.background_gradient()"
   ]
  },
  {
   "cell_type": "markdown",
   "id": "ba5675db-a07b-4bab-b243-f6f562335e32",
   "metadata": {},
   "source": [
    "Since none of the numeric features are strongly correlated, we shall keep all numeric features. \n",
    "\n",
    "On the other hand, for the categorical features, it seems unreasonable for applicants to be rejected based on their zip code and whether or not they have a driver's license.\n",
    "Let's see the proportions of approved and rejected applicants based on *DriversLicense*"
   ]
  },
  {
   "cell_type": "code",
   "execution_count": 8,
   "id": "53eeea59-5ef0-4a6b-b9e8-5e2dbddbf8e8",
   "metadata": {},
   "outputs": [
    {
     "data": {
      "text/plain": [
       "DriversLicense  Approved\n",
       "f               -           0.569519\n",
       "                +           0.430481\n",
       "t               -           0.537975\n",
       "                +           0.462025\n",
       "Name: Approved, dtype: float64"
      ]
     },
     "execution_count": 8,
     "metadata": {},
     "output_type": "execute_result"
    }
   ],
   "source": [
    "cc_apps.groupby('DriversLicense')['Approved'].value_counts(normalize=True)"
   ]
  },
  {
   "cell_type": "markdown",
   "id": "033fd8a7-824d-4b0b-801b-c7e4f0081ae8",
   "metadata": {},
   "source": [
    "The proportions of approved and rejected applications are similar for driver's license holders and non driver's license holders- so we can drop this feature. We will also go ahead and drop the *ZipCode* feature. There is an argument for the *ZipCode* influencing outcome of the application; perhaps applicants living in more affluent parts of the country tend to have a higher approval rate. If this were the case, it would be captured by the *Income* feature.\n",
    "\n",
    "Let's now look at the distribution of the numerical features."
   ]
  },
  {
   "cell_type": "code",
   "execution_count": 9,
   "id": "fab735b9-cbe7-40cd-81fc-7c29df00716a",
   "metadata": {},
   "outputs": [
    {
     "data": {
      "image/png": "[encoded data removed]",
      "text/plain": [
       "<Figure size 432x288 with 6 Axes>"
      ]
     },
     "metadata": {
      "needs_background": "light"
     },
     "output_type": "display_data"
    }
   ],
   "source": [
    "cc_apps.drop(['DriversLicense', 'ZipCode'], axis=1, inplace=True)\n",
    "\n",
    "import matplotlib.pyplot as plt\n",
    "cc_apps.hist()\n",
    "plt.tight_layout()\n",
    "plt.show()"
   ]
  },
  {
   "cell_type": "markdown",
   "id": "a9774f14-2e4b-4ad8-853a-e03e409e64c0",
   "metadata": {},
   "source": [
    "Since the features do not resemble a normal distribution, a **minmax scaler** is preferred over a standard scaler."
   ]
  },
  {
   "cell_type": "markdown",
   "id": "397e4f4c-3cc9-4d96-9274-ab115e30b5aa",
   "metadata": {
    "tags": []
   },
   "source": [
    "## 3. Splitting the data into train and test sets\n",
    "\n",
    "We will separate the data into a 80%-20% train-test split. The train set will be used for training and validation by utilising Cross Validation. The test set will only be used in the last step to assess the final model."
   ]
  },
  {
   "cell_type": "code",
   "execution_count": 10,
   "id": "e775c073-ac2a-4d93-910c-f8fe7d59c603",
   "metadata": {},
   "outputs": [],
   "source": [
    "from sklearn.model_selection import train_test_split\n",
    "features = cc_apps.drop(['Approved'], axis=1)\n",
    "labels = cc_apps['Approved']\n",
    "\n",
    "train, test, labels_train, labels_test = train_test_split(features, labels, test_size=0.2, random_state=1, stratify=labels)"
   ]
  },
  {
   "cell_type": "markdown",
   "id": "9b462914-060e-4a55-80b6-792c911ca06a",
   "metadata": {},
   "source": [
    "## 4-6. Building the Pipeline - Preprocessing, Training, Validation\n",
    "We will first create pipelines for both numeric and categorical data. For the numerical features, we will replace missing values with the mean of the feature. Numerical features will also be scaled using a minmax scale. The catogorical features will be tranformed using the one hot encoder."
   ]
  },
  {
   "cell_type": "code",
   "execution_count": 11,
   "id": "e0c78d7a-46d2-4a55-9f4e-581e09f0d43f",
   "metadata": {},
   "outputs": [],
   "source": [
    "from sklearn.compose import ColumnTransformer\n",
    "from sklearn.pipeline import Pipeline\n",
    "from sklearn.impute import SimpleImputer\n",
    "from sklearn.preprocessing import MinMaxScaler, OneHotEncoder\n",
    "\n",
    "\n",
    "#Grouping feature types\n",
    "numeric_features = ['Age', 'Debt', 'YearsEmployed', 'CreditScore', 'Income']\n",
    "categorical_features = ['Male', 'Married', 'BankCustomer', 'EducationLevel', 'Ethnicity', 'YearsEmployed', 'PriorDefault', 'Employed', 'Citizen']\n",
    "\n",
    "#Defining transformer for numeric data\n",
    "numeric_transformer = Pipeline(\n",
    "    steps=[(\"imputer\", SimpleImputer(strategy=\"mean\")), (\"scaler\", MinMaxScaler())]\n",
    ")\n",
    "\n",
    "#Defining transformer for categorical data\n",
    "categorical_transformer = OneHotEncoder(handle_unknown=\"ignore\")\n",
    "\n",
    "#Combining the transformers\n",
    "preprocessor = ColumnTransformer(\n",
    "    transformers=[\n",
    "        (\"num\", numeric_transformer, numeric_features),\n",
    "        (\"cat\", categorical_transformer, categorical_features),\n",
    "    ]\n",
    ")"
   ]
  },
  {
   "cell_type": "markdown",
   "id": "bbbfe0aa-f085-4569-8e5b-64e85e27abac",
   "metadata": {},
   "source": [
    "The transformers have now been defined. We proceed with training some classic classifiers and validate using **5-fold cross validation**. The 3 classic classifiers which we will be comparing here are **Logistic Regression, Decision Tree and K-Nearest Neighbours** (all with their default hyper-parameters)"
   ]
  },
  {
   "cell_type": "code",
   "execution_count": 12,
   "id": "05f09e11-d8d3-4325-bfdd-f735276e9b2c",
   "metadata": {},
   "outputs": [],
   "source": [
    "from sklearn.linear_model import LogisticRegression\n",
    "from sklearn.tree import DecisionTreeClassifier\n",
    "from sklearn.neighbors import KNeighborsClassifier\n",
    "from sklearn.model_selection import KFold, cross_val_score\n",
    "\n",
    "#Defining the 5-fold cv\n",
    "kf = KFold(n_splits=5, shuffle=True, random_state=1)\n",
    "\n",
    "#Defining the 3 classifier pipelines\n",
    "clfs = [LogisticRegression(random_state=1), DecisionTreeClassifier(random_state=1), KNeighborsClassifier()]\n",
    "pipelines = []\n",
    "\n",
    "for clf in clfs:\n",
    "    pipeline = Pipeline(\n",
    "        steps=[(\"preprocessor\", preprocessor), (\"classifier\", clf)]\n",
    "    )\n",
    "    pipelines.append(pipeline)\n",
    "\n",
    "cv_results = []\n",
    "\n",
    "for pipeline in pipelines:    \n",
    "    cv_result = cross_val_score(pipeline, # Pipeline\n",
    "                                train, # Feature matrix\n",
    "                                labels_train, # Target vector\n",
    "                                cv=kf, # Cross-validation technique\n",
    "                                scoring=\"accuracy\", # Loss function\n",
    "                                n_jobs=-1) # use all cpu cores\n",
    "    cv_results.append(cv_result)\n",
    "\n",
    "# Compute mean accuracy of each classifier\n",
    "means = [np.round(np.mean(cv), 3) for cv in cv_results]\n",
    "clfs = ['Logistic Regression', 'Decision Tree', 'KNN']\n",
    "mean_accuracy = dict(zip(clfs,means))"
   ]
  },
  {
   "cell_type": "code",
   "execution_count": 13,
   "id": "1f0e09e9-4cec-44d5-9ea4-8a3cd78fa986",
   "metadata": {},
   "outputs": [
    {
     "data": {
      "text/plain": [
       "{'Logistic Regression': 0.855, 'Decision Tree': 0.817, 'KNN': 0.833}"
      ]
     },
     "execution_count": 13,
     "metadata": {},
     "output_type": "execute_result"
    }
   ],
   "source": [
    "mean_accuracy"
   ]
  },
  {
   "cell_type": "markdown",
   "id": "bd5da5d4-be9c-42eb-a110-3b9fbd4489a6",
   "metadata": {},
   "source": [
    "## 7. Hyper-Parameter Tuning to improve model performance\n",
    "\n",
    "Among the 3 trained classifiers, Logistic Regression reported the highest accuracy **(~85.5%)**. Now lets see if we can improve the accuracy of the logistic regression model by tuning its hyper-parameters. We will use GridSearchCV to do this. In particular, we will search for the optimal values for 3 hyper-parameters; **tol, C** & **max_iter**.\n",
    "\n",
    "In simple terms: \n",
    " - large C leads to overfitting, small C leads to underfitting\n",
    " - tol (tolerance) controls the minimum difference in parameter values across iterations when determining optimal parameters.\n",
    " - max_iter is the maximum number of iterations when determining the optimal parameters\n",
    " \n",
    "Note that the terms hyper-parameters and parameters not equivalent- optimal **parameters** are learnt during training process, whereas **hyper-parameters** cannot be learned by training the model and must be set prior to training the model."
   ]
  },
  {
   "cell_type": "code",
   "execution_count": 14,
   "id": "19504e5c-1592-4c03-b707-4b1b0179ccf3",
   "metadata": {},
   "outputs": [],
   "source": [
    "from sklearn.model_selection import GridSearchCV\n",
    "\n",
    "# Define the grid of values for tol, C and max_iter\n",
    "tol = [0.01,0.001,0.0001]\n",
    "C = np.logspace(-5,8,15)\n",
    "max_iter = [100,150,200]\n",
    "\n",
    "#Defining the estimator\n",
    "logreg_pre = Pipeline(\n",
    "        steps=[(\"preprocessor\", preprocessor), (\"logreg\", LogisticRegression(random_state=1))]\n",
    ")\n",
    "\n",
    "# Create a dictionary where tol and max_iter are keys and the lists of their values are corresponding values\n",
    "param_grid = {'logreg__tol':tol, \n",
    "              'logreg__C':C,\n",
    "              'logreg__max_iter': max_iter\n",
    "}\n",
    "\n",
    "#Instantiate GridSearchCV\n",
    "grid_model = GridSearchCV(estimator=logreg_pre, \n",
    "                          param_grid=param_grid, \n",
    "                          cv=kf,\n",
    "                          scoring='accuracy',\n",
    "                          n_jobs=-1)"
   ]
  },
  {
   "cell_type": "code",
   "execution_count": 15,
   "id": "cb90d379-65f1-4e60-af1a-91d9f68992b9",
   "metadata": {},
   "outputs": [],
   "source": [
    "grid_model_result = grid_model.fit(train, labels_train)"
   ]
  },
  {
   "cell_type": "code",
   "execution_count": 16,
   "id": "bb1dfb24-0409-4942-974f-5ffb2b91cb87",
   "metadata": {},
   "outputs": [
    {
     "name": "stdout",
     "output_type": "stream",
     "text": [
      "Best: 0.858755 using {'logreg__C': 0.05179474679231213, 'logreg__max_iter': 100, 'logreg__tol': 0.01}\n"
     ]
    }
   ],
   "source": [
    "best_score, best_params = grid_model_result.best_score_, grid_model_result.best_params_\n",
    "print(\"Best: %f using %s\" % (best_score,best_params))"
   ]
  },
  {
   "cell_type": "markdown",
   "id": "0ce3d612-2aae-4808-be8c-472329e4e62c",
   "metadata": {},
   "source": [
    "We observe that the best set of hyper-parameters chosen from the parameter space resulted in a modest increase in accuracy **(85.5% to 85.9%)**. Due to the negligible increase in accuracy, either choice will be fine; so we will proceed with the default hyper-parameters."
   ]
  },
  {
   "cell_type": "markdown",
   "id": "39a7a2d5-bfae-4dfc-a401-b7c133b62b42",
   "metadata": {},
   "source": [
    "## 8. Implementing Ensemble Methods to improve performance\n",
    "Emsemble methods are techniques which use a group of base model predictors (known as an **emsemble**) and aggregates the outputs of these predictors to produce a final output. We will look at 2 well known ensemble methods; **Bagging** and **AdaBoost**. For classification purposes, each predictor in the ensemble predicts the label of a new instance, and the final prediction is made by weighted majority voting."
   ]
  },
  {
   "cell_type": "markdown",
   "id": "5df40e68-8910-4da9-9e47-ab9aad0e3961",
   "metadata": {},
   "source": [
    "### 8.1 Bagging\n",
    "**Bagging** produces an ensemble of predictors using the same base algorithm, where each is trained on a different subset of the data. These training subsets are obtained through bootstrap sampling (sampling with replacement)."
   ]
  },
  {
   "cell_type": "code",
   "execution_count": 17,
   "id": "fa77a5a3-5f5a-40b2-8cbf-6fa284913477",
   "metadata": {},
   "outputs": [
    {
     "name": "stdout",
     "output_type": "stream",
     "text": [
      "Best: 0.858755 using {'bag_logreg__n_estimators': 32}\n"
     ]
    }
   ],
   "source": [
    "from sklearn.ensemble import BaggingClassifier\n",
    "\n",
    "#Define base estimator\n",
    "lr = LogisticRegression(random_state=1)\n",
    "\n",
    "bag_logreg_pre = Pipeline(\n",
    "        steps=[(\"preprocessor\", preprocessor), (\"bag_logreg\", BaggingClassifier(base_estimator=lr, random_state=1))]\n",
    ")\n",
    "\n",
    "bag_param_grid = {'bag_logreg__n_estimators':np.arange(1,101)}\n",
    "\n",
    "#Instantiate GridSearchCV\n",
    "bag_grid_model = GridSearchCV(estimator=bag_logreg_pre, \n",
    "                              param_grid=bag_param_grid, \n",
    "                              cv=kf,\n",
    "                              scoring='accuracy',\n",
    "                              n_jobs=-1)\n",
    "\n",
    "\n",
    "bag_grid_model_result = bag_grid_model.fit(train, labels_train)\n",
    "\n",
    "bag_best_score, bag_best_params = bag_grid_model_result.best_score_, bag_grid_model_result.best_params_\n",
    "print(\"Best: %f using %s\" % (bag_best_score, bag_best_params))"
   ]
  },
  {
   "cell_type": "markdown",
   "id": "11f75b0b-dc1b-4fb5-bdba-1f982ec8e632",
   "metadata": {},
   "source": [
    "We notice that bagging results in a similar accuracy as the hyper-parameter tuning performed earlier, producing an accuracy score of **85.9%**"
   ]
  },
  {
   "cell_type": "markdown",
   "id": "39ae42b7-7c48-4cb5-abc0-29d47f463f7f",
   "metadata": {},
   "source": [
    "### 8.2 AdaBoost\n",
    "**Boosting** is an emsemble method in which many predictors are trained sequentially using the same base algorithm, and each predictor learns from the errors of its predecessor. **AdaBoost** is a type of boosting where each predictor pays more attention to the instances which were wrongly predicted by its predecessor. AdaBoost does this by changing the weights of of the training instances at each iteration."
   ]
  },
  {
   "cell_type": "code",
   "execution_count": 18,
   "id": "1f030dca-b6f6-4f72-b90c-7daf41b53c86",
   "metadata": {},
   "outputs": [
    {
     "name": "stdout",
     "output_type": "stream",
     "text": [
      "Best: 0.864193 using {'ada_logreg__n_estimators': 26}\n"
     ]
    }
   ],
   "source": [
    "from sklearn.ensemble import AdaBoostClassifier\n",
    "\n",
    "#include ada boost in estimator pipeline\n",
    "ada_logreg_pre = Pipeline(\n",
    "        steps=[(\"preprocessor\", preprocessor), (\"ada_logreg\", AdaBoostClassifier(base_estimator=lr, random_state=1))]\n",
    ")\n",
    "\n",
    "ada_param_grid = {'ada_logreg__n_estimators':np.arange(1,101)}\n",
    "\n",
    "#Instantiate GridSearchCV\n",
    "ada_grid_model = GridSearchCV(estimator=ada_logreg_pre, \n",
    "                              param_grid=ada_param_grid, \n",
    "                              cv=kf,\n",
    "                              scoring='accuracy',\n",
    "                              n_jobs=-1)\n",
    "\n",
    "ada_grid_model_result = ada_grid_model.fit(train, labels_train)\n",
    "\n",
    "ada_best_score, ada_best_params = ada_grid_model_result.best_score_, ada_grid_model_result.best_params_\n",
    "print(\"Best: %f using %s\" % (ada_best_score, ada_best_params))"
   ]
  },
  {
   "cell_type": "markdown",
   "id": "6e7cd6c7-89cb-4fdd-9ee2-10c145e4e650",
   "metadata": {},
   "source": [
    "Implementing AdaBoost increased the accuracy from **85.5% to 86.4%**. Although this is not a significant increase, **we will use this AdaBoosted model as our final classifier** as AdaBoost is well known for generally outperforming base model classifiers."
   ]
  },
  {
   "cell_type": "markdown",
   "id": "d907e94a-70a3-4493-9e4b-5e58c4eecaca",
   "metadata": {},
   "source": [
    "## 9. Testing on unseen data\n",
    "Finally we will now see how well our chosen model performs on the test set data, which has not been used at all in the training and validation process. This gives us a general idea on how our model predicts the outcome of new credit card applications."
   ]
  },
  {
   "cell_type": "code",
   "execution_count": 19,
   "id": "17c896bf-923c-4ccb-8ec8-325f40078246",
   "metadata": {},
   "outputs": [
    {
     "name": "stdout",
     "output_type": "stream",
     "text": [
      "0.8695652173913043\n"
     ]
    }
   ],
   "source": [
    "from sklearn.metrics import accuracy_score\n",
    "\n",
    "labels_predicted = ada_grid_model.predict(test)\n",
    "acc_test = accuracy_score(labels_test,labels_predicted)\n",
    "print(acc_test)"
   ]
  },
  {
   "cell_type": "markdown",
   "id": "a4d863d2-928d-46c1-af5a-34df52700c21",
   "metadata": {},
   "source": [
    "Our AdaBoosted Logistic Regression model managed to achieve an accuracy score of **~87%**, which is slightly higher when compared to the scores obtained during the validation phase. Our credit card application predictor is now ready to be deployed!"
   ]
  }
 ],
 "metadata": {
  "kernelspec": {
   "display_name": "Python 3 (ipykernel)",
   "language": "python",
   "name": "python3"
  },
  "language_info": {
   "codemirror_mode": {
    "name": "ipython",
    "version": 3
   },
   "file_extension": ".py",
   "mimetype": "text/x-python",
   "name": "python",
   "nbconvert_exporter": "python",
   "pygments_lexer": "ipython3",
   "version": "3.9.12"
  }
 },
 "nbformat": 4,
 "nbformat_minor": 5
}
